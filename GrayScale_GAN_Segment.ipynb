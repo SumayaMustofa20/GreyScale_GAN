{
  "cells": [
    {
      "cell_type": "code",
      "execution_count": null,
      "metadata": {
        "colab": {
          "base_uri": "https://localhost:8080/"
        },
        "id": "M0gjhJIM3kDI",
        "outputId": "22a92d60-e532-4b04-dbed-1709e1d9e6f0"
      },
      "outputs": [
        {
          "output_type": "stream",
          "name": "stdout",
          "text": [
            "Mounted at /content/drive\n"
          ]
        }
      ],
      "source": [
        "from google.colab import drive\n",
        "drive.mount('/content/drive')"
      ]
    },
    {
      "cell_type": "code",
      "execution_count": null,
      "metadata": {
        "id": "fQY3qXNb3tUn"
      },
      "outputs": [],
      "source": [
        "import os\n",
        "import torch\n",
        "import torch.nn as nn\n",
        "import torch.optim as optim\n",
        "import torchvision.utils as vutils\n",
        "from torchvision import transforms, datasets\n",
        "from PIL import Image\n",
        "import numpy as np\n",
        "import matplotlib.pyplot as plt\n",
        "from torch.autograd import Variable"
      ]
    },
    {
      "cell_type": "code",
      "execution_count": null,
      "metadata": {
        "id": "HbK9D3b13vYE"
      },
      "outputs": [],
      "source": [
        "# Set device (GPU or CPU)\n",
        "device = torch.device(\"cuda\" if torch.cuda.is_available() else \"cpu\")"
      ]
    },
    {
      "cell_type": "code",
      "execution_count": null,
      "metadata": {
        "id": "WG44x_7X3ylU"
      },
      "outputs": [],
      "source": [
        "# Paths to specific class datasets\n",
        "PATH_CYST = '/content/drive/Shareddrives/For_Research_S/GAN/CT-KIDNEY-DATASET-Normal-Cyst-Tumor-Stone/Cyst/'\n",
        "PATH_STONE = '/content/drive/Shareddrives/For_Research_S/GAN/CT-KIDNEY-DATASET-Normal-Cyst-Tumor-Stone/Stone/'\n",
        "PATH_TUMOR = '/content/drive/Shareddrives/For_Research_S/GAN/CT-KIDNEY-DATASET-Normal-Cyst-Tumor-Stone/Tumor/'"
      ]
    },
    {
      "cell_type": "code",
      "execution_count": null,
      "metadata": {
        "colab": {
          "base_uri": "https://localhost:8080/"
        },
        "id": "w90RbX7P380m",
        "outputId": "c8320690-2c34-42e1-c89a-067c52ea58dd"
      },
      "outputs": [
        {
          "output_type": "stream",
          "name": "stdout",
          "text": [
            "There are 3709 images in the Cyst class.\n"
          ]
        }
      ],
      "source": [
        "# Example: Print number of images in the Cyst class\n",
        "images = os.listdir(PATH_CYST)\n",
        "print(f'There are {len(images)} images in the Cyst class.')"
      ]
    },
    {
      "cell_type": "code",
      "execution_count": null,
      "metadata": {
        "id": "-Ci96eHC306P"
      },
      "outputs": [],
      "source": [
        "batch_size = 32\n",
        "transform = transforms.Compose([\n",
        "    transforms.Grayscale(),  # Convert image to grayscale\n",
        "    transforms.Resize(64),\n",
        "    transforms.CenterCrop(64),\n",
        "    transforms.ToTensor(),\n",
        "    transforms.Normalize((0.5,), (0.5,))  # Normalization for grayscale (1 channel)\n",
        "])"
      ]
    },
    {
      "cell_type": "code",
      "execution_count": null,
      "metadata": {
        "colab": {
          "base_uri": "https://localhost:8080/"
        },
        "id": "gvPa-3tqAULO",
        "outputId": "ddb2edac-78a4-498e-f4b6-ddd58c6292ad"
      },
      "outputs": [
        {
          "output_type": "stream",
          "name": "stdout",
          "text": [
            "Dataset loaded successfully!\n"
          ]
        }
      ],
      "source": [
        "from torch.utils.data import Dataset, DataLoader\n",
        "# Custom dataset class\n",
        "class SingleClassDataset(Dataset):\n",
        "    def __init__(self, root_dir, transform=None):\n",
        "        self.root_dir = root_dir\n",
        "        self.transform = transform\n",
        "        self.image_paths = [os.path.join(root_dir, f) for f in os.listdir(root_dir) if f.endswith('.jpg') or f.endswith('.png')]\n",
        "\n",
        "    def __len__(self):\n",
        "        return len(self.image_paths)\n",
        "\n",
        "    def __getitem__(self, idx):\n",
        "        img_path = self.image_paths[idx]\n",
        "        image = Image.open(img_path).convert('RGB')\n",
        "        if self.transform:\n",
        "            image = self.transform(image)\n",
        "        return image  # Return only the image since there's only one class\n",
        "\n",
        "# Load dataset using the custom class\n",
        "train_data = SingleClassDataset(PATH_CYST, transform=transform)\n",
        "train_loader = torch.utils.data.DataLoader(train_data, batch_size=batch_size, shuffle=True)\n",
        "\n",
        "print(\"Dataset loaded successfully!\")"
      ]
    },
    {
      "cell_type": "code",
      "execution_count": null,
      "metadata": {
        "id": "7SQaAIDo39jU"
      },
      "outputs": [],
      "source": [
        "# Define the Generator class for grayscale images (1 channel)\n",
        "class Generator(nn.Module):\n",
        "    def __init__(self, nz=128, channels=1):  # 1 channel for grayscale\n",
        "        super(Generator, self).__init__()\n",
        "        self.nz = nz\n",
        "        self.channels = channels\n",
        "\n",
        "        def convlayer(n_input, n_output, k_size=4, stride=2, padding=0):\n",
        "            block = [\n",
        "                nn.ConvTranspose2d(n_input, n_output, kernel_size=k_size, stride=stride, padding=padding, bias=False),\n",
        "                nn.BatchNorm2d(n_output),\n",
        "                nn.ReLU(inplace=True),\n",
        "            ]\n",
        "            return block\n",
        "\n",
        "        self.model = nn.Sequential(\n",
        "            *convlayer(self.nz, 1024, 4, 1, 0),  # Fully connected layer via convolution.\n",
        "            *convlayer(1024, 512, 4, 2, 1),\n",
        "            *convlayer(512, 256, 4, 2, 1),\n",
        "            *convlayer(256, 128, 4, 2, 1),\n",
        "            *convlayer(128, 64, 4, 2, 1),\n",
        "            nn.ConvTranspose2d(64, self.channels, 3, 1, 1),\n",
        "            nn.Tanh()  # Output layer with Tanh for normalization between -1 and 1\n",
        "        )\n",
        "\n",
        "    def forward(self, z):\n",
        "        z = z.view(-1, self.nz, 1, 1)\n",
        "        img = self.model(z)\n",
        "        return img\n",
        "\n",
        "# Define the Discriminator class for grayscale images (1 channel)\n",
        "class Discriminator(nn.Module):\n",
        "    def __init__(self, channels=1):  # 1 channel for grayscale\n",
        "        super(Discriminator, self).__init__()\n",
        "        self.channels = channels\n",
        "\n",
        "        def convlayer(n_input, n_output, k_size=4, stride=2, padding=0):\n",
        "            block = [\n",
        "                nn.Conv2d(n_input, n_output, kernel_size=k_size, stride=stride, padding=padding, bias=False),\n",
        "                nn.BatchNorm2d(n_output),\n",
        "                nn.LeakyReLU(0.2, inplace=True)\n",
        "            ]\n",
        "            return block\n",
        "\n",
        "        self.model = nn.Sequential(\n",
        "            *convlayer(self.channels, 64, 4, 2, 1),\n",
        "            *convlayer(64, 128, 4, 2, 1),\n",
        "            *convlayer(128, 256, 4, 2, 1),\n",
        "            *convlayer(256, 512, 4, 2, 1),\n",
        "            nn.Conv2d(512, 1, 4, 1, 0),  # Output a single value\n",
        "            nn.Sigmoid()  # Sigmoid for binary classification\n",
        "        )\n",
        "\n",
        "    def forward(self, img):\n",
        "        return self.model(img)"
      ]
    },
    {
      "cell_type": "code",
      "execution_count": null,
      "metadata": {
        "id": "FnrYPLN54D6j"
      },
      "outputs": [],
      "source": [
        "# Initialize the models\n",
        "netG = Generator().to(device)\n",
        "netD = Discriminator().to(device)"
      ]
    },
    {
      "cell_type": "code",
      "execution_count": null,
      "metadata": {
        "id": "NfJgbDeH4Mpb"
      },
      "outputs": [],
      "source": [
        "# Define loss function and optimizers\n",
        "criterion = nn.BCELoss()\n",
        "optimizerD = optim.Adam(netD.parameters(), lr=0.0001, betas=(0.5, 0.999))\n",
        "optimizerG = optim.Adam(netG.parameters(), lr=0.0001, betas=(0.5, 0.999))"
      ]
    },
    {
      "cell_type": "code",
      "execution_count": null,
      "metadata": {
        "id": "M1oBK2cR4TbV"
      },
      "outputs": [],
      "source": [
        "# Noise vector size\n",
        "nz = 128\n",
        "\n",
        "# Training the model\n",
        "num_epochs = 5\n",
        "real_label = 1.\n",
        "fake_label = 0."
      ]
    },
    {
      "cell_type": "code",
      "execution_count": null,
      "metadata": {
        "colab": {
          "base_uri": "https://localhost:8080/"
        },
        "id": "9kRxXzur4Ouo",
        "outputId": "b7ef6310-292d-4806-ae14-027f3a61f86e"
      },
      "outputs": [
        {
          "output_type": "stream",
          "name": "stdout",
          "text": [
            "Epoch [1/5]\n",
            "Epoch [2/5]\n",
            "Epoch [3/5]\n",
            "Epoch [4/5]\n",
            "Epoch [5/5]\n",
            "All 3700 images have been saved to: /content/drive/Shareddrives/For_Research_S/GAN/Generated_Images/Cyst/generated_image_1700.png\n"
          ]
        }
      ],
      "source": [
        "for epoch in range(num_epochs):\n",
        "    for i, data in enumerate(train_loader, 0):\n",
        "        # Update Discriminator\n",
        "        netD.zero_grad()\n",
        "        real_images = data[0].to(device)\n",
        "        b_size = real_images.size(0)\n",
        "        label = torch.full((b_size,), real_label, dtype=torch.float, device=device)\n",
        "\n",
        "        # Add an extra dimension for the number of channels\n",
        "        real_images = real_images.unsqueeze(1)\n",
        "\n",
        "        # Forward pass real batch through D\n",
        "        output = netD(real_images).view(-1)\n",
        "        errD_real = criterion(output, label)\n",
        "        errD_real.backward()\n",
        "\n",
        "        # Generate fake images\n",
        "        noise = torch.randn(b_size, nz, 1, 1, device=device)\n",
        "        fake_images = netG(noise)\n",
        "        label.fill_(fake_label)\n",
        "\n",
        "        # Forward pass fake batch through D\n",
        "        output = netD(fake_images.detach()).view(-1)\n",
        "        errD_fake = criterion(output, label)\n",
        "        errD_fake.backward()\n",
        "        optimizerD.step()\n",
        "\n",
        "        # Update Generator\n",
        "        netG.zero_grad()\n",
        "        label.fill_(real_label)\n",
        "        output = netD(fake_images).view(-1)\n",
        "        errG = criterion(output, label)\n",
        "        errG.backward()\n",
        "        optimizerG.step()\n",
        "\n",
        "    print(f'Epoch [{epoch + 1}/{num_epochs}]')\n",
        "\n",
        "    # Save generated images for the last epoch\n",
        "    if epoch == num_epochs - 1:\n",
        "        for i in range(1700):  # Generate 3700 images for the cyst class\n",
        "            noise = torch.randn(1, nz, 1, 1, device=device)\n",
        "            with torch.no_grad():\n",
        "                generated_image = netG(noise).detach().cpu()\n",
        "\n",
        "            os.makedirs(os.path.dirname(save_path), exist_ok=True)\n",
        "            # Save each image separately\n",
        "            save_path = f'/content/drive/Shareddrives/For_Research_S/GAN/Generated_Images/Cyst/generated_image_{i+1}.png'\n",
        "            vutils.save_image(generated_image, save_path, normalize=True)\n",
        "\n",
        "        print(f'All 3700 images have been saved to: {save_path}')"
      ]
    },
    {
      "cell_type": "code",
      "execution_count": null,
      "metadata": {
        "id": "4mN_5xTk4YaM",
        "colab": {
          "base_uri": "https://localhost:8080/",
          "height": 213
        },
        "outputId": "bdacec05-51a4-46c2-aae4-6ba63d8d1067"
      },
      "outputs": [
        {
          "output_type": "display_data",
          "data": {
            "text/plain": [
              "<Figure size 2000x1000 with 5 Axes>"
            ],
            "image/png": "[encoded data removed]"
          },
          "metadata": {}
        }
      ],
      "source": [
        "# Display sample images after the last epoch\n",
        "from matplotlib import pyplot as plt\n",
        "import matplotlib.image as mpimg\n",
        "\n",
        "def plot_generated_images(image_path, num_images):\n",
        "    fig, axes = plt.subplots(1, num_images, figsize=(20, 10))\n",
        "    for i in range(num_images):\n",
        "        img = mpimg.imread(f'{image_path}/generated_image_{i+1}.png')\n",
        "        axes[i].imshow(img, cmap='gray')\n",
        "        axes[i].axis('off')\n",
        "    plt.show()\n",
        "\n",
        "# Example to plot the first 5 images generated\n",
        "plot_generated_images('/content/drive/Shareddrives/For_Research_S/GAN/Generated_Images/Cyst', 5)"
      ]
    }
  ],
  "metadata": {
    "colab": {
      "provenance": []
    },
    "kernelspec": {
      "display_name": "Python 3",
      "name": "python3"
    },
    "language_info": {
      "name": "python"
    }
  },
  "nbformat": 4,
  "nbformat_minor": 0
}